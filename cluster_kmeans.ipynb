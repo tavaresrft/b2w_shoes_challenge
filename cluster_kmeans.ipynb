{
 "cells": [
  {
   "cell_type": "code",
   "execution_count": null,
   "metadata": {},
   "outputs": [],
   "source": [
    "import pandas as pd\n",
    "import matplotlib.pyplot as plt\n",
    "import numpy as np\n",
    "from functools import reduce\n",
    "from sklearn import preprocessing\n",
    "from sklearn.cluster import KMeans\n",
    "%matplotlib inline\n"
   ]
  },
  {
   "cell_type": "code",
   "execution_count": null,
   "metadata": {
    "scrolled": true
   },
   "outputs": [],
   "source": [
    "df = pd.read_json(\"data_cleaned.json\", orient=\"records\", lines=True)\n",
    "df_cluster=df.drop(['id','price'],axis=1)"
   ]
  },
  {
   "cell_type": "code",
   "execution_count": null,
   "metadata": {},
   "outputs": [],
   "source": [
    "Kmean = KMeans(n_clusters=4)\n",
    "Kmean.fit(df_cluster)"
   ]
  },
  {
   "cell_type": "code",
   "execution_count": null,
   "metadata": {},
   "outputs": [],
   "source": [
    "#\n",
    "resposta_kmean=pd.DataFrame(Kmean.labels_)\n",
    "df_kprices=pd.concat([df['price'],resposta_kmean],axis=1, sort=False)\n",
    "df_kprices = df_kprices.rename(columns={0: \"result\"})"
   ]
  },
  {
   "cell_type": "code",
   "execution_count": null,
   "metadata": {},
   "outputs": [],
   "source": [
    "df_k_ids=pd.concat([df['id'],resposta_kmean],axis=1, sort=False)\n",
    "df_k_ids = df_k_ids.rename(columns={0: 'result'})\n",
    "df_k_ids.sort_values(by=['result'])"
   ]
  },
  {
   "cell_type": "code",
   "execution_count": null,
   "metadata": {},
   "outputs": [],
   "source": [
    "k_means=df_kprices.groupby(df_kprices['result']).mean()\n",
    "k_std=df_kprices.groupby(df_kprices['result']).std()"
   ]
  },
  {
   "cell_type": "code",
   "execution_count": null,
   "metadata": {},
   "outputs": [],
   "source": [
    "df_meansstd = pd.merge(k_means,k_std,on='result',how='left')\n",
    "df_meansstd = df_meansstd.rename(columns={\"price_x\": \"mean\", \"price_y\": \"std\"})\n",
    "df_meansstd"
   ]
  },
  {
   "cell_type": "code",
   "execution_count": null,
   "metadata": {},
   "outputs": [],
   "source": [
    "df_kprices.plot(kind='scatter',x='price',y='result',color='red')\n",
    "plt.show()"
   ]
  },
  {
   "cell_type": "code",
   "execution_count": null,
   "metadata": {},
   "outputs": [],
   "source": []
  }
 ],
 "metadata": {
  "kernelspec": {
   "display_name": "Python 3",
   "language": "python",
   "name": "python3"
  },
  "language_info": {
   "codemirror_mode": {
    "name": "ipython",
    "version": 3
   },
   "file_extension": ".py",
   "mimetype": "text/x-python",
   "name": "python",
   "nbconvert_exporter": "python",
   "pygments_lexer": "ipython3",
   "version": "3.6.9"
  }
 },
 "nbformat": 4,
 "nbformat_minor": 2
}
