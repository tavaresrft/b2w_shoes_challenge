{
 "cells": [
  {
   "cell_type": "code",
   "execution_count": null,
   "metadata": {},
   "outputs": [],
   "source": [
    "import pandas as pd\n",
    "import numpy as np\n",
    "from functools import reduce\n",
    "from sklearn import preprocessing"
   ]
  },
  {
   "cell_type": "code",
   "execution_count": null,
   "metadata": {},
   "outputs": [],
   "source": [
    "df = pd.read_csv(\"sapatos.csv\", header=0)[['id', 'brand', 'categories', 'primaryCategories', 'colors',\n",
    "       'prices.amountMax', 'prices.amountMin', 'prices.color',\n",
    "       'prices.condition', 'prices.isSale']]"
   ]
  },
  {
   "cell_type": "code",
   "execution_count": null,
   "metadata": {},
   "outputs": [],
   "source": [
    "df[\"prices.condition\"] = [condition.upper() for condition in df[\"prices.condition\"].fillna(\"USED\")]"
   ]
  },
  {
   "cell_type": "code",
   "execution_count": null,
   "metadata": {},
   "outputs": [],
   "source": [
    "df = df.drop([\"primaryCategories\"], axis=1)"
   ]
  },
  {
   "cell_type": "code",
   "execution_count": null,
   "metadata": {},
   "outputs": [],
   "source": [
    "df[\"colors\"] = df[\"colors\"].fillna(\"N\")\n",
    "df[\"colors\"] = [tuple(names.replace(\"/\", \" \").split(\" \")[0].strip() for names in set(colors.split(\",\"))) for colors in df[\"colors\"].fillna(\"\")]\n",
    "df[\"categories\"] = [tuple(category.strip() for category in set(categories.split(\",\"))) for categories in df[\"categories\"].fillna(\"\")]"
   ]
  },
  {
   "cell_type": "code",
   "execution_count": null,
   "metadata": {},
   "outputs": [],
   "source": [
    "categories = set(reduce(lambda a,b: a+b, df[\"categories\"].unique()))\n",
    "colors = set(reduce(lambda a,b: a+b, df[\"colors\"].unique()))"
   ]
  },
  {
   "cell_type": "code",
   "execution_count": null,
   "metadata": {},
   "outputs": [],
   "source": [
    "colors"
   ]
  },
  {
   "cell_type": "code",
   "execution_count": null,
   "metadata": {},
   "outputs": [],
   "source": [
    "categories"
   ]
  },
  {
   "cell_type": "code",
   "execution_count": null,
   "metadata": {},
   "outputs": [],
   "source": [
    "df['id'].nunique()"
   ]
  },
  {
   "cell_type": "code",
   "execution_count": null,
   "metadata": {},
   "outputs": [],
   "source": [
    "df[\"id\"].count()"
   ]
  },
  {
   "cell_type": "code",
   "execution_count": null,
   "metadata": {},
   "outputs": [],
   "source": [
    "df[\"prices.amountMax\"] = [float(str(price).replace(\",\", \".\")) for price in df[\"prices.amountMax\"]]\n",
    "df[\"prices.amountMin\"] = [float(str(price).replace(\",\", \".\")) for price in df[\"prices.amountMin\"]]\n",
    "df[\"price\"] = (df[\"prices.amountMax\"] + df[\"prices.amountMin\"])/2\n",
    "df = df.drop([\"prices.amountMax\", \"prices.amountMin\", \"prices.color\"], axis=1)"
   ]
  },
  {
   "cell_type": "code",
   "execution_count": null,
   "metadata": {},
   "outputs": [],
   "source": [
    "df = df.rename(columns={\"prices.condition\": \"condition\", \"prices.isSale\": \"isSale\"})"
   ]
  },
  {
   "cell_type": "code",
   "execution_count": null,
   "metadata": {},
   "outputs": [],
   "source": [
    "df=df.drop_duplicates()"
   ]
  },
  {
   "cell_type": "code",
   "execution_count": null,
   "metadata": {},
   "outputs": [],
   "source": [
    "#Você deve usar o algoritmo de sua preferência para agrupar os sapatos de acordo com\n",
    "#condition, categories e colors disponíveis gerando 4 clusters.\n",
    "\n",
    "# Transforma a coluna df['condition'] de strings para 0 ou 1\n",
    "le = preprocessing.LabelEncoder()\n",
    "condition_list = df['condition']\n",
    "le.fit(condition_list)\n",
    "le.classes_\n",
    "df['condition']=le.transform(condition_list)\n",
    "# Tira a média dos preços para cada grupo de id\n",
    "df_means= df.drop(['brand','categories','colors','isSale'],axis=1)\n",
    "df_means=df_means.groupby(df['id']).mean()\n",
    "# Seleciona uma linha de id para as outras categorias, pois os dados se repetem para cada id.\n",
    "df_others = df.drop(['condition','isSale','price'],axis=1)\n",
    "df_others = df_others.drop_duplicates('id')"
   ]
  },
  {
   "cell_type": "code",
   "execution_count": null,
   "metadata": {},
   "outputs": [],
   "source": [
    "df_dummies=df_others.drop(['id','brand'],axis=1)\n",
    "df_dummies=pd.get_dummies(df_dummies)\n",
    "df_dummies=pd.concat([df_others['id'],df_dummies],axis=1)"
   ]
  },
  {
   "cell_type": "code",
   "execution_count": null,
   "metadata": {},
   "outputs": [],
   "source": [
    "df=pd.merge(df_dummies,df_means, on='id', how='left')"
   ]
  },
  {
   "cell_type": "code",
   "execution_count": null,
   "metadata": {},
   "outputs": [],
   "source": [
    "with open('data_cleaned.json', 'w', encoding='utf-8') as file:\n",
    "    df.to_json(file, force_ascii=False, orient='records', lines=True)"
   ]
  }
 ],
 "metadata": {
  "kernelspec": {
   "display_name": "Python 3",
   "language": "python",
   "name": "python3"
  },
  "language_info": {
   "codemirror_mode": {
    "name": "ipython",
    "version": 3
   },
   "file_extension": ".py",
   "mimetype": "text/x-python",
   "name": "python",
   "nbconvert_exporter": "python",
   "pygments_lexer": "ipython3",
   "version": "3.6.9"
  }
 },
 "nbformat": 4,
 "nbformat_minor": 2
}
